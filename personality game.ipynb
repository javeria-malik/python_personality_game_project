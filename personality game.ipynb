{
 "cells": [
  {
   "cell_type": "code",
   "execution_count": 22,
   "id": "88707d32",
   "metadata": {},
   "outputs": [],
   "source": [
    "import getpass"
   ]
  },
  {
   "cell_type": "code",
   "execution_count": 23,
   "id": "94787c5e",
   "metadata": {},
   "outputs": [],
   "source": [
    "colors=[\"red\",\"green\",\"blue\",\"white\",\"orange\",\"pink\",\"mehroon\"]\n",
    "        "
   ]
  },
  {
   "cell_type": "code",
   "execution_count": 24,
   "id": "d02193d8",
   "metadata": {},
   "outputs": [
    {
     "name": "stdout",
     "output_type": "stream",
     "text": [
      "enter your desire color········\n"
     ]
    }
   ],
   "source": [
    "pin=getpass.getpass(\"enter your desire color\")"
   ]
  },
  {
   "cell_type": "code",
   "execution_count": 26,
   "id": "90af0d24",
   "metadata": {},
   "outputs": [
    {
     "name": "stdout",
     "output_type": "stream",
     "text": [
      "cutest one\n"
     ]
    }
   ],
   "source": [
    "if pin==\"red\":\n",
    "    print(\"angry one\")\n",
    "elif pin==\"green\":\n",
    "    print(\"loyal one\")\n",
    "elif pin==\"blue\":\n",
    "    print(\"loyal one\")\n",
    "elif pin==\"pink\":\n",
    "    print(\"shy one\")\n",
    "elif pin==\"orange\":\n",
    "    print(\"happiest one\")\n",
    "elif pin==\"mehroon\":\n",
    "    print(\"cutest one\")\n",
    "else:\n",
    "    print(\"try again\")"
   ]
  },
  {
   "cell_type": "code",
   "execution_count": 16,
   "id": "26a2b2e9",
   "metadata": {},
   "outputs": [
    {
     "name": "stdout",
     "output_type": "stream",
     "text": [
      "\n"
     ]
    }
   ],
   "source": []
  },
  {
   "cell_type": "code",
   "execution_count": null,
   "id": "3dbfef29",
   "metadata": {},
   "outputs": [],
   "source": []
  },
  {
   "cell_type": "code",
   "execution_count": null,
   "id": "c2d2e092",
   "metadata": {},
   "outputs": [],
   "source": []
  }
 ],
 "metadata": {
  "kernelspec": {
   "display_name": "Python 3",
   "language": "python",
   "name": "python3"
  },
  "language_info": {
   "codemirror_mode": {
    "name": "ipython",
    "version": 3
   },
   "file_extension": ".py",
   "mimetype": "text/x-python",
   "name": "python",
   "nbconvert_exporter": "python",
   "pygments_lexer": "ipython3",
   "version": "3.8.8"
  }
 },
 "nbformat": 4,
 "nbformat_minor": 5
}
